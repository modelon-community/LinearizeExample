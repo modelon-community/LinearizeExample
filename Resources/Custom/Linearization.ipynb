{
 "cells": [
  {
   "cell_type": "markdown",
   "id": "8b85aa4b-80ea-4ffc-a6b8-80dd7ea03213",
   "metadata": {},
   "source": [
    "# Linearization"
   ]
  },
  {
   "cell_type": "code",
   "execution_count": 147,
   "id": "537d5321-f0bb-476a-a51c-f6a9a01310b1",
   "metadata": {},
   "outputs": [],
   "source": [
    "from modelon.impact.client import Client\n",
    "import ipywidgets as widgets\n",
    "from IPython.display import display"
   ]
  },
  {
   "cell_type": "code",
   "execution_count": 144,
   "id": "e24d70b7-8d0f-424a-baba-870e12e5e2eb",
   "metadata": {},
   "outputs": [],
   "source": [
    "global experiment_definition\n",
    "client = Client()\n",
    "workspaces = client.get_workspaces()\n",
    "workspace_map = {workspace.definition.name:workspace.id for workspace in workspaces}"
   ]
  },
  {
   "cell_type": "code",
   "execution_count": 145,
   "id": "d3de0a11-084d-4057-8349-2515d760b592",
   "metadata": {},
   "outputs": [
    {
     "name": "stdout",
     "output_type": "stream",
     "text": [
      "Select a workspace with Linearize Project.\n"
     ]
    }
   ],
   "source": [
    "workspace_sel=widgets.Dropdown(\n",
    "    options=workspace_map.keys(),\n",
    "    value=\"TestCF\",\n",
    "    description='Workspaces',\n",
    "    disabled=False,\n",
    ")\n",
    "output = widgets.Output()\n",
    "print('Select a workspace with Linearize Project.')"
   ]
  },
  {
   "cell_type": "code",
   "execution_count": 146,
   "id": "09762687-6460-4987-bce1-918db3299c2a",
   "metadata": {},
   "outputs": [
    {
     "data": {
      "application/vnd.jupyter.widget-view+json": {
       "model_id": "3261afdb62bd4d18b73ae0b005dfe031",
       "version_major": 2,
       "version_minor": 0
      },
      "text/plain": [
       "Dropdown(description='Workspaces', options=('TestCF', 'LinearizeDemo', 'Something'), value='TestCF')"
      ]
     },
     "metadata": {},
     "output_type": "display_data"
    },
    {
     "data": {
      "application/vnd.jupyter.widget-view+json": {
       "model_id": "de7ee210a67e4cddb6845a057039ea78",
       "version_major": 2,
       "version_minor": 0
      },
      "text/plain": [
       "Output()"
      ]
     },
     "metadata": {},
     "output_type": "display_data"
    }
   ],
   "source": [
    "def select_cf(workspace):\n",
    "    global custom_function\n",
    "    custom_functions=workspace.get_custom_functions()\n",
    "    custom_function=widgets.ToggleButtons(\n",
    "    options=[custom_function.name for custom_function in custom_functions],\n",
    "    value='dynamic',\n",
    "    description='Custom Functions',\n",
    "    disabled=False,\n",
    "    )\n",
    "    print('The following custom functions are available for the choosen workspace:')\n",
    "    display(custom_function)\n",
    "    custom_function.observe(list_cf_params,names=['value'])\n",
    "\n",
    "def setup_model_for_execution(b):\n",
    "    with output:\n",
    "        global experiment_definition, custom_function, parameters\n",
    "        model_name = \"LinearizeExample.HeatingSystemNonLinear\"\n",
    "        print(f'Press execute to simulate model - {model_name} with the selected custom function.')\n",
    "        model = workspace.get_model(model_name)\n",
    "        # Execute experiment\n",
    "        set_parameters = {i:eval(j.value) for i, j in parameters.items()}\n",
    "        experiment_definition = model.new_experiment_definition(\n",
    "           custom_function.with_parameters(**set_parameters)\n",
    "        )\n",
    "        #print(experiment_definition.to_dict(), custom_function.with_parameters(**parameters))\n",
    "        return experiment_definition\n",
    "\n",
    "def on_button_clicked(b):\n",
    "    with output:\n",
    "        print(\"Button clicked.\")\n",
    "        exp = workspace.execute(experiment_definition).wait()\n",
    "        case = exp.get_case('case_1')\n",
    "        log = case.get_log()\n",
    "        log.show()\n",
    "        print(\"Button clicked.\")\n",
    "\n",
    "def execute():\n",
    "    button = widgets.Button(\n",
    "        value=False,\n",
    "        description='Execute',\n",
    "        disabled=False,\n",
    "        button_style='', # 'success', 'info', 'warning', 'danger' or ''\n",
    "        tooltip='Execute',\n",
    "        icon='check' # (FontAwesome names without the `fa-` prefix)\n",
    "    )\n",
    "    display(button)\n",
    "    button.on_click(on_button_clicked)\n",
    "    \n",
    "def list_cf_params(obj):\n",
    "    with output:\n",
    "        custom_function_name = obj['owner'].value\n",
    "        global custom_function, parameters\n",
    "        custom_function=workspace.get_custom_function(custom_function_name)\n",
    "        \n",
    "        print(f'Chosen custom function has the following parameter values. Please set your parameter choices:-')\n",
    "        parameters={}\n",
    "        for i,j in custom_function.parameter_values.items():\n",
    "            parameters[i]=widgets.Text(\n",
    "            value=str(j),\n",
    "            placeholder='Type something',\n",
    "            description=i,\n",
    "            disabled=False   \n",
    "        )\n",
    "            display(parameters[i])\n",
    "            parameters[i].observe(setup_model_for_execution,names=['value'])\n",
    "        execute()\n",
    "\n",
    "\n",
    "def on_drop_down_change(obj):\n",
    "    with output:\n",
    "        global workspace\n",
    "        workspace = client.get_workspace(workspace_map[obj['owner'].value])\n",
    "        project_names = [project.definition.name for project in workspace.get_projects()]\n",
    "        #assert 'Linearize' in project_names, f'Linearize is not a workspace dependency for {workspace.definition.name}. Please choose one which has Linearize project as a dependency.'\n",
    "\n",
    "        print(\"The chosen workspaces has the following projects and dependencies\") \n",
    "        workspace_projects = workspace.get_projects()\n",
    "        projects=widgets.Select(\n",
    "            options=[project.definition.name for project in workspace_projects],\n",
    "            value=\"Linearize\",\n",
    "            description='Projects',\n",
    "            disabled=False,\n",
    "        )\n",
    "\n",
    "\n",
    "        workspace_dependencies = workspace.get_dependencies()\n",
    "        dependencies=widgets.Select(\n",
    "        options=[project.definition.name +' '+  project.definition.version for project in workspace_dependencies],\n",
    "        value=\"Modelica 4.0.0\",\n",
    "        description='Dependencies',\n",
    "        disabled=False)\n",
    "        \n",
    "        display(projects)\n",
    "        display(dependencies)\n",
    "        select_cf(workspace)\n",
    "        \n",
    "        \n",
    "        \n",
    "display(workspace_sel, output)\n",
    "workspace_sel.observe(on_drop_down_change,names=['value'])    "
   ]
  },
  {
   "cell_type": "code",
   "execution_count": 141,
   "id": "a1768fd5-f6d5-4349-a138-43048badd05f",
   "metadata": {},
   "outputs": [],
   "source": []
  },
  {
   "cell_type": "code",
   "execution_count": null,
   "id": "9c6894c6-8099-41a9-9436-90269d9b6b92",
   "metadata": {},
   "outputs": [],
   "source": []
  }
 ],
 "metadata": {
  "kernelspec": {
   "display_name": "LinearizeVenv",
   "language": "python",
   "name": "linearizevenv"
  },
  "language_info": {
   "codemirror_mode": {
    "name": "ipython",
    "version": 3
   },
   "file_extension": ".py",
   "mimetype": "text/x-python",
   "name": "python",
   "nbconvert_exporter": "python",
   "pygments_lexer": "ipython3",
   "version": "3.9.5"
  }
 },
 "nbformat": 4,
 "nbformat_minor": 5
}
